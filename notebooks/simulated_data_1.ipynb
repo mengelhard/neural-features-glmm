{
 "cells": [
  {
   "cell_type": "code",
   "execution_count": 1,
   "id": "1e023c38",
   "metadata": {},
   "outputs": [],
   "source": [
    "import numpy as np\n",
    "import matplotlib.pyplot as plt"
   ]
  },
  {
   "cell_type": "code",
   "execution_count": 2,
   "id": "7f008e0b",
   "metadata": {},
   "outputs": [],
   "source": [
    "## NECESSARY UPDATES\n",
    "# 1 - ONE STEP GAMMA OPT\n",
    "# 2 - OPT GAMMA TILL CONVERGENCE\n",
    "\n",
    "## LOOK AT POPULATION PARAMETERS OVER 100 RUNS (SEEDS)"
   ]
  },
  {
   "cell_type": "code",
   "execution_count": 3,
   "id": "15773730",
   "metadata": {},
   "outputs": [],
   "source": [
    "# set rng\n",
    "\n",
    "rng = np.random.RandomState(1984)"
   ]
  },
  {
   "cell_type": "code",
   "execution_count": 4,
   "id": "115da0bc",
   "metadata": {},
   "outputs": [
    {
     "data": {
      "text/plain": [
       "(1, 2)"
      ]
     },
     "execution_count": 4,
     "metadata": {},
     "output_type": "execute_result"
    }
   ],
   "source": [
    "# population effects\n",
    "\n",
    "intercept = -2.\n",
    "slope = 2.\n",
    "\n",
    "pop_coefs = np.array([[intercept, slope]])\n",
    "pop_coefs.shape"
   ]
  },
  {
   "cell_type": "code",
   "execution_count": 5,
   "id": "02180f10",
   "metadata": {},
   "outputs": [],
   "source": [
    "# subject specific effects\n",
    "\n",
    "num_subjects = 10000\n",
    "\n",
    "subj_intercepts = rng.randn(num_subjects)\n",
    "subj_slopes = rng.randn(num_subjects)"
   ]
  },
  {
   "cell_type": "code",
   "execution_count": 6,
   "id": "fa731f8a",
   "metadata": {},
   "outputs": [
    {
     "data": {
      "text/plain": [
       "((747593, 2), (747593, 2))"
      ]
     },
     "execution_count": 6,
     "metadata": {},
     "output_type": "execute_result"
    }
   ],
   "source": [
    "# observed features\n",
    "\n",
    "n_obs_per_subject = rng.randint(50, 100, size=num_subjects)\n",
    "\n",
    "sid = np.array([i for i, n_obs in enumerate(n_obs_per_subject) for _ in range(n_obs)]).astype(np.int32)\n",
    "sid_nobs = np.array([n_obs for i, n_obs in enumerate(n_obs_per_subject) for _ in range(n_obs)]).astype(np.int32)\n",
    "\n",
    "ss_coefs = np.array([\n",
    "    [c0, c1]\n",
    "    for n_obs, c0, c1 in zip(n_obs_per_subject, subj_intercepts, subj_slopes)\n",
    "    for _ in range(n_obs)\n",
    "])\n",
    "\n",
    "X = np.stack([np.ones(len(sid)), rng.randn(len(sid))]).T.astype(np.float32)\n",
    "X.shape, ss_coefs.shape"
   ]
  },
  {
   "cell_type": "code",
   "execution_count": 7,
   "id": "ffb117ec",
   "metadata": {},
   "outputs": [
    {
     "data": {
      "text/plain": [
       "(747593,)"
      ]
     },
     "execution_count": 7,
     "metadata": {},
     "output_type": "execute_result"
    }
   ],
   "source": [
    "# outcomes\n",
    "\n",
    "y_logits = np.sum(X * pop_coefs + X * ss_coefs, axis=-1)\n",
    "\n",
    "def sigmoid(z):\n",
    "    return 1 / (1 + np.exp(-1 * z))\n",
    "\n",
    "y_probs = sigmoid(y_logits)\n",
    "y = (rng.rand(len(y_probs)) < y_probs).astype(np.float32)\n",
    "\n",
    "y.shape"
   ]
  },
  {
   "cell_type": "code",
   "execution_count": 8,
   "id": "5f4188de",
   "metadata": {},
   "outputs": [
    {
     "name": "stdout",
     "output_type": "stream",
     "text": [
      "The overall event rate is 0.23820314\n"
     ]
    },
    {
     "data": {
      "image/png": "[encoded data removed]",
      "text/plain": [
       "<Figure size 640x480 with 1 Axes>"
      ]
     },
     "metadata": {},
     "output_type": "display_data"
    }
   ],
   "source": [
    "# summary of outcomes\n",
    "\n",
    "print('The overall event rate is', y.mean())\n",
    "\n",
    "plt.hist([y_probs[sid == i].mean() for i in range(num_subjects)])\n",
    "plt.title('Histogram of subject specific event rates')\n",
    "plt.show()"
   ]
  },
  {
   "cell_type": "code",
   "execution_count": 9,
   "id": "c9a3bb6e",
   "metadata": {},
   "outputs": [],
   "source": [
    "import torch\n",
    "import torch.nn as nn\n",
    "import torch.optim as optim\n",
    "#from torch.utils.data import DataLoader, TensorDataset\n",
    "\n",
    "# Define the model. Note that \n",
    "\n",
    "def normal_nll(x, mu=0., sigma=1.):\n",
    "    return .5 * ((x - mu) / sigma) ** 2\n",
    "\n",
    "class NeuralFeaturesGLMM(nn.Module):\n",
    "    def __init__(self, num_population_effects, num_subjects, num_subject_specific_effects):\n",
    "        super(NeuralFeaturesGLMM, self).__init__()\n",
    "        \n",
    "        self.pop_params_layer = nn.Linear(num_population_effects, 1, bias=False)\n",
    "        \n",
    "        self.ss_params_layer = nn.Embedding(num_subjects, num_subject_specific_effects)\n",
    "        self.ss_params_mu = 0#nn.Parameter(torch.zeros(num_subject_specific_effects, 1))\n",
    "        self.ss_params_logsigma = nn.Parameter(torch.zeros(num_subject_specific_effects, 1))\n",
    "        \n",
    "        self.pop_nll = nn.BCEWithLogitsLoss(reduction='none')\n",
    "        self.ssp_nll = nn.GaussianNLLLoss(reduction='none')\n",
    "        \n",
    "        self.ss_params = self.ss_params_layer.parameters()\n",
    "        #self.pop_params = (*self.pop_params_layer.parameters(), self.ss_params_mu, self.ss_params_logsigma)\n",
    "        self.pop_params = (*self.pop_params_layer.parameters(), self.ss_params_logsigma)\n",
    "\n",
    "    def forward(self, x, z, sid):\n",
    "        logits = torch.squeeze(self.pop_params_layer(x))\n",
    "        ss_params = self.ss_params_layer(sid)\n",
    "        logits += torch.sum(ss_params * z, axis=-1)\n",
    "        \n",
    "        return logits\n",
    "        \n",
    "    def nll(self, x, z, sid, sid_nobs, y):\n",
    "        \n",
    "        y_pred = self.forward(x, z, sid)\n",
    "        \n",
    "        # cross entropy loss\n",
    "        nll = self.pop_nll(y_pred, y)\n",
    "        \n",
    "        # subject specific parameters\n",
    "        ssp = torch.t(self.ss_params_layer(sid))\n",
    "        \n",
    "        # subject specific effects likelihood\n",
    "        # we divide by num obs for each subject to avoid repeating for each observation\n",
    "        nll += torch.sum(self.ssp_nll(ssp, self.ss_params_mu, torch.exp(2 * self.ss_params_logsigma)), 0) / sid_nobs\n",
    "        \n",
    "        return torch.sum(nll)"
   ]
  },
  {
   "cell_type": "code",
   "execution_count": 10,
   "id": "01a26da3",
   "metadata": {
    "scrolled": false
   },
   "outputs": [],
   "source": [
    "def get_batches(batch_size=1):\n",
    "    for ndx in range(0, num_subjects, batch_size):\n",
    "        idx = (sid >= ndx) & (sid < min(ndx + batch_size, num_subjects))\n",
    "        yield (torch.from_numpy(arr[idx]) for arr in (X, X, sid, sid_nobs, y))\n",
    "\n",
    "    \n",
    "def train(model, epochs, ss_steps=1, pop_steps=1):\n",
    "    \n",
    "    ss_opt = optim.Adam(model.ss_params)\n",
    "    pop_opt = optim.Adam(model.pop_params)\n",
    "    \n",
    "    all_loss = []\n",
    "    \n",
    "    for epoch in range(epochs):\n",
    "        \n",
    "        epoch_loss = []\n",
    "        \n",
    "        for batch_idx, (x_batch, z_batch, sid_batch, sid_nobs_batch, y_batch) in enumerate(\n",
    "            get_batches(batch_size=50)):\n",
    "            \n",
    "            #print(x_batch.dtype, sid_batch.dtype, sid_nobs_batch.dtype, y_batch.dtype)\n",
    "            \n",
    "            for step in range(ss_steps):\n",
    "            \n",
    "                ss_opt.zero_grad()              \n",
    "                \n",
    "                loss = model.nll(x_batch, z_batch, sid_batch, sid_nobs_batch, y_batch)\n",
    "                loss.backward()\n",
    "                ss_opt.step()\n",
    "                \n",
    "            for step in range(pop_steps):\n",
    "                \n",
    "                pop_opt.zero_grad()\n",
    "                \n",
    "                loss = model.nll(x_batch, z_batch, sid_batch, sid_nobs_batch, y_batch)\n",
    "                loss.backward()\n",
    "                pop_opt.step()\n",
    "                \n",
    "            current_loss = loss.detach().numpy()\n",
    "            epoch_loss.append(current_loss)\n",
    "            \n",
    "        epoch_loss = np.mean(epoch_loss)\n",
    "        all_loss.append(epoch_loss)\n",
    "        print('Epoch %i; Loss = %.3f' % (epoch, epoch_loss))\n",
    "        \n",
    "    return all_loss\n",
    "        \n",
    "mdl = NeuralFeaturesGLMM(2, num_subjects, 2)"
   ]
  },
  {
   "cell_type": "code",
   "execution_count": 11,
   "id": "bdc6b821",
   "metadata": {
    "scrolled": false
   },
   "outputs": [
    {
     "name": "stdout",
     "output_type": "stream",
     "text": [
      "Epoch 0; Loss = 3902.144\n",
      "Epoch 1; Loss = 3528.962\n",
      "Epoch 2; Loss = 3219.755\n",
      "Epoch 3; Loss = 2966.985\n"
     ]
    },
    {
     "ename": "KeyboardInterrupt",
     "evalue": "",
     "output_type": "error",
     "traceback": [
      "\u001b[0;31m---------------------------------------------------------------------------\u001b[0m",
      "\u001b[0;31mKeyboardInterrupt\u001b[0m                         Traceback (most recent call last)",
      "Cell \u001b[0;32mIn[11], line 1\u001b[0m\n\u001b[0;32m----> 1\u001b[0m all_loss \u001b[38;5;241m=\u001b[39m \u001b[43mtrain\u001b[49m\u001b[43m(\u001b[49m\u001b[43mmdl\u001b[49m\u001b[43m,\u001b[49m\u001b[43m \u001b[49m\u001b[38;5;241;43m200\u001b[39;49m\u001b[43m,\u001b[49m\u001b[43m \u001b[49m\u001b[43mss_steps\u001b[49m\u001b[38;5;241;43m=\u001b[39;49m\u001b[38;5;241;43m1\u001b[39;49m\u001b[43m)\u001b[49m\n",
      "Cell \u001b[0;32mIn[10], line 18\u001b[0m, in \u001b[0;36mtrain\u001b[0;34m(model, epochs, ss_steps, pop_steps)\u001b[0m\n\u001b[1;32m     14\u001b[0m \u001b[38;5;28;01mfor\u001b[39;00m epoch \u001b[38;5;129;01min\u001b[39;00m \u001b[38;5;28mrange\u001b[39m(epochs):\n\u001b[1;32m     16\u001b[0m     epoch_loss \u001b[38;5;241m=\u001b[39m []\n\u001b[0;32m---> 18\u001b[0m     \u001b[38;5;28;01mfor\u001b[39;00m batch_idx, (x_batch, z_batch, sid_batch, sid_nobs_batch, y_batch) \u001b[38;5;129;01min\u001b[39;00m \u001b[38;5;28menumerate\u001b[39m(\n\u001b[1;32m     19\u001b[0m         get_batches(batch_size\u001b[38;5;241m=\u001b[39m\u001b[38;5;241m50\u001b[39m)):\n\u001b[1;32m     20\u001b[0m         \n\u001b[1;32m     21\u001b[0m         \u001b[38;5;66;03m#print(x_batch.dtype, sid_batch.dtype, sid_nobs_batch.dtype, y_batch.dtype)\u001b[39;00m\n\u001b[1;32m     23\u001b[0m         \u001b[38;5;28;01mfor\u001b[39;00m step \u001b[38;5;129;01min\u001b[39;00m \u001b[38;5;28mrange\u001b[39m(ss_steps):\n\u001b[1;32m     25\u001b[0m             ss_opt\u001b[38;5;241m.\u001b[39mzero_grad()              \n",
      "Cell \u001b[0;32mIn[10], line 4\u001b[0m, in \u001b[0;36m<genexpr>\u001b[0;34m(.0)\u001b[0m\n\u001b[1;32m      2\u001b[0m \u001b[38;5;28;01mfor\u001b[39;00m ndx \u001b[38;5;129;01min\u001b[39;00m \u001b[38;5;28mrange\u001b[39m(\u001b[38;5;241m0\u001b[39m, num_subjects, batch_size):\n\u001b[1;32m      3\u001b[0m     idx \u001b[38;5;241m=\u001b[39m (sid \u001b[38;5;241m>\u001b[39m\u001b[38;5;241m=\u001b[39m ndx) \u001b[38;5;241m&\u001b[39m (sid \u001b[38;5;241m<\u001b[39m \u001b[38;5;28mmin\u001b[39m(ndx \u001b[38;5;241m+\u001b[39m batch_size, num_subjects))\n\u001b[0;32m----> 4\u001b[0m     \u001b[38;5;28;01myield\u001b[39;00m (\u001b[43mtorch\u001b[49m\u001b[38;5;241;43m.\u001b[39;49m\u001b[43mfrom_numpy\u001b[49m\u001b[43m(\u001b[49m\u001b[43marr\u001b[49m\u001b[43m[\u001b[49m\u001b[43midx\u001b[49m\u001b[43m]\u001b[49m\u001b[43m)\u001b[49m \u001b[38;5;28;01mfor\u001b[39;00m arr \u001b[38;5;129;01min\u001b[39;00m (X, X, sid, sid_nobs, y))\n",
      "\u001b[0;31mKeyboardInterrupt\u001b[0m: "
     ]
    }
   ],
   "source": [
    "all_loss = train(mdl, 200, ss_steps=1)"
   ]
  },
  {
   "cell_type": "code",
   "execution_count": null,
   "id": "db91253c",
   "metadata": {},
   "outputs": [],
   "source": [
    "plt.plot(np.arange(len(all_loss)), all_loss)\n",
    "plt.xlabel('Epoch')\n",
    "plt.ylabel('Loss')\n",
    "plt.show()"
   ]
  },
  {
   "cell_type": "code",
   "execution_count": null,
   "id": "87167a97",
   "metadata": {},
   "outputs": [],
   "source": [
    "for name, param in mdl.named_parameters():\n",
    "    if param.requires_grad:\n",
    "        print(name, param.data)"
   ]
  },
  {
   "cell_type": "code",
   "execution_count": null,
   "id": "c0208c16",
   "metadata": {},
   "outputs": [],
   "source": [
    "ss_params_estimated = mdl.ss_params_layer.weight.detach().numpy()"
   ]
  },
  {
   "cell_type": "code",
   "execution_count": null,
   "id": "1d0d4c13",
   "metadata": {},
   "outputs": [],
   "source": [
    "plt.scatter(subj_intercepts, ss_params_estimated[:, 0])\n",
    "plt.plot([-4, 4], [-4, 4], 'k--')\n",
    "plt.xlabel('True subject-specific intercept')\n",
    "plt.ylabel('Estimated subject-specific intercept')\n",
    "plt.show()"
   ]
  },
  {
   "cell_type": "code",
   "execution_count": null,
   "id": "fe44f53a",
   "metadata": {},
   "outputs": [],
   "source": [
    "plt.scatter(subj_slopes, ss_params_estimated[:, 1])\n",
    "plt.plot([-4, 4], [-4, 4], 'k--')\n",
    "plt.xlabel('True subject-specific slope')\n",
    "plt.ylabel('Estimated subject-specific slope')\n",
    "plt.show()"
   ]
  },
  {
   "cell_type": "code",
   "execution_count": null,
   "id": "8f2efcc3",
   "metadata": {},
   "outputs": [],
   "source": []
  }
 ],
 "metadata": {
  "kernelspec": {
   "display_name": "torch",
   "language": "python",
   "name": "torch"
  },
  "language_info": {
   "codemirror_mode": {
    "name": "ipython",
    "version": 3
   },
   "file_extension": ".py",
   "mimetype": "text/x-python",
   "name": "python",
   "nbconvert_exporter": "python",
   "pygments_lexer": "ipython3",
   "version": "3.10.10"
  }
 },
 "nbformat": 4,
 "nbformat_minor": 5
}
